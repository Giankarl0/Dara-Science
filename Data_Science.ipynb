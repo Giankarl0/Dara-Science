{
  "nbformat": 4,
  "nbformat_minor": 0,
  "metadata": {
    "colab": {
      "provenance": [],
      "authorship_tag": "ABX9TyOmwDYkadT2cHMPMA94bcpV",
      "include_colab_link": true
    },
    "kernelspec": {
      "name": "python3",
      "display_name": "Python 3"
    },
    "language_info": {
      "name": "python"
    }
  },
  "cells": [
    {
      "cell_type": "markdown",
      "metadata": {
        "id": "view-in-github",
        "colab_type": "text"
      },
      "source": [
        "<a href=\"https://colab.research.google.com/github/Giankarl0/Data-Science/blob/integration/Data_Science.ipynb\" target=\"_parent\"><img src=\"https://colab.research.google.com/assets/colab-badge.svg\" alt=\"Open In Colab\"/></a>"
      ]
    },
    {
      "cell_type": "markdown",
      "source": [
        "\n",
        " **Clase 1**\n",
        "\n"
      ],
      "metadata": {
        "id": "EC0VmmeX-IkT"
      }
    },
    {
      "cell_type": "markdown",
      "source": [
        "**Función para verificar si un número es primo.\n",
        " Un número primo es mayor que 1 y divisible solo por 1 y por sí mismo.**\n",
        "    \n",
        "    "
      ],
      "metadata": {
        "id": "CykwqWC_NJ79"
      }
    },
    {
      "cell_type": "code",
      "execution_count": null,
      "metadata": {
        "colab": {
          "base_uri": "https://localhost:8080/"
        },
        "id": "kYsPOtOy9tGy",
        "outputId": "8ed0f6b4-a823-45bd-d348-e8c92efd4251"
      },
      "outputs": [
        {
          "output_type": "stream",
          "name": "stdout",
          "text": [
            "Introduce un número para verificar si es primo: 5\n",
            "5 es un número primo.\n"
          ]
        }
      ],
      "source": [
        "def es_primo(numero):\n",
        "\n",
        "    if numero <= 1:\n",
        "        return False\n",
        "    for i in range(2, int(numero ** 0.5) + 1):\n",
        "        if numero % i == 0:\n",
        "            return False\n",
        "    return True\n",
        "\n",
        "numero = int(input(\"Introduce un número para verificar si es primo: \"))\n",
        "if es_primo(numero):\n",
        "    print(f\"{numero} es un número primo.\")\n",
        "else:\n",
        "    print(f\"{numero} no es un número primo.\")\n"
      ]
    },
    {
      "cell_type": "markdown",
      "source": [
        "Función para pedir tres notas al usuario, calcular el promedio y determinar si aprobó o reprobó.\n"
      ],
      "metadata": {
        "id": "e0fSJ5u9P44E"
      }
    },
    {
      "cell_type": "code",
      "source": [
        "def calcular_promedio():\n",
        "\n",
        "    print(\"Por favor, introduce tres notas (entre 0 y 5):\")\n",
        "\n",
        "    nota1 = float(input(\"Introduce la primera nota: \"))\n",
        "    nota2 = float(input(\"Introduce la segunda nota: \"))\n",
        "    nota3 = float(input(\"Introduce la tercera nota: \"))\n",
        "\n",
        "    promedio = (nota1 + nota2 + nota3) / 3\n",
        "\n",
        "    if promedio >= 3.5:\n",
        "        estado = \"Aprobaste la materia. 🎉\"\n",
        "    else:\n",
        "        estado = \"Reprobaste la materia. 😔\"\n",
        "\n",
        "    print(f\"\\nEl promedio de las notas {nota1}, {nota2} y {nota3} es: {promedio:.2f}\")\n",
        "    print(estado)\n",
        "\n",
        "calcular_promedio()"
      ],
      "metadata": {
        "colab": {
          "base_uri": "https://localhost:8080/"
        },
        "id": "seEuYPhtP4aN",
        "outputId": "f2214ce4-2e57-4e2f-f1a1-3d206d01f4f1"
      },
      "execution_count": null,
      "outputs": [
        {
          "output_type": "stream",
          "name": "stdout",
          "text": [
            "Por favor, introduce tres notas (entre 0 y 5):\n",
            "Introduce la primera nota: 4\n",
            "Introduce la segunda nota: 5\n",
            "Introduce la tercera nota: 2\n",
            "\n",
            "El promedio de las notas 4.0, 5.0 y 2.0 es: 3.67\n",
            "Aprobaste la materia. 🎉\n"
          ]
        }
      ]
    },
    {
      "cell_type": "code",
      "source": [
        "def determinar_estado(promedio):\n",
        "\n",
        "    opciones = {\n",
        "        \"aprobado\": \"Aprobaste la materia. 🎉\",\n",
        "        \"reprobado\": \"Reprobaste la materia. 😔\"\n",
        "    }\n",
        "    return opciones[\"aprobado\"] if promedio >= 3.5 else opciones[\"reprobado\"]\n",
        "\n",
        "print(\"Bienvenido. Vamos a calcular tu promedio de notas.\")\n",
        "notas = []\n",
        "contador = 1\n",
        "\n",
        "while contador <= 3:\n",
        "    try:\n",
        "        nota = float(input(f\"Introduce la nota {contador} (entre 0 y 5): \"))\n",
        "        if 0 <= nota <= 5:\n",
        "            notas.append(nota)\n",
        "            contador += 1\n",
        "        else:\n",
        "            print(\"Por favor, introduce una nota válida entre 0 y 5.\")\n",
        "    except ValueError:\n",
        "        print(\"Entrada inválida. Introduce un número.\")\n",
        "\n",
        "suma = 0\n",
        "for nota in notas:\n",
        "    suma += nota\n",
        "\n",
        "promedio = suma / len(notas)\n",
        "\n",
        "estado = determinar_estado(promedio)\n",
        "\n",
        "print(f\"\\nTus notas son: {notas}\")\n",
        "print(f\"El promedio es: {promedio:.2f}\")\n",
        "print(estado)\n"
      ],
      "metadata": {
        "colab": {
          "base_uri": "https://localhost:8080/"
        },
        "id": "ZPDZdMgrTesR",
        "outputId": "a670ed52-ff55-4553-cd97-355a46d46504"
      },
      "execution_count": null,
      "outputs": [
        {
          "output_type": "stream",
          "name": "stdout",
          "text": [
            "Bienvenido. Vamos a calcular tu promedio de notas.\n",
            "Introduce la nota 1 (entre 0 y 5): 4\n",
            "Introduce la nota 2 (entre 0 y 5): 4\n",
            "Introduce la nota 3 (entre 0 y 5): 2\n",
            "\n",
            "Tus notas son: [4.0, 4.0, 2.0]\n",
            "El promedio es: 3.33\n",
            "Reprobaste la materia. 😔\n"
          ]
        }
      ]
    },
    {
      "cell_type": "markdown",
      "source": [
        "\n",
        "***Clase 2***"
      ],
      "metadata": {
        "id": "m1ilsjmtzOgV"
      }
    },
    {
      "cell_type": "markdown",
      "source": [
        "Escribe un programa que clasifique a una persona en diferentes grupos según su edad y la primera letra de su nombre.\n",
        "\n",
        "Si la persona tiene menos de 18 años y su nombre comienza con una vocal (A, E, I, O, U), pertenece al grupo 1.\n",
        "\n",
        "Si la persona tiene 18 años o más y su nombre comienza con una consonante, pertenece al grupo 2.\n",
        "\n",
        "Si no cumple ninguna de las condiciones anteriores, pertenece al grupo 3."
      ],
      "metadata": {
        "id": "M6EPPmJs5H48"
      }
    },
    {
      "cell_type": "code",
      "source": [
        "def clasificar_persona(nombre, edad):\n",
        "\n",
        "    primera_letra = nombre[0].upper()\n",
        "    vocales = {'A', 'E', 'I', 'O', 'U'}\n",
        "\n",
        "    if edad < 18 and primera_letra in vocales:\n",
        "        return \"Grupo 1\"\n",
        "    elif edad >= 18 and primera_letra not in vocales:\n",
        "        return \"Grupo 2\"\n",
        "    else:\n",
        "        return \"Grupo 3\"\n",
        "\n",
        "nombre = input(\"Ingresa tu nombre: \")\n",
        "edad = int(input(\"Ingresa tu edad: \"))\n",
        "\n",
        "grupo = clasificar_persona(nombre, edad)\n",
        "print(f\"{nombre}, perteneces al {grupo}.\")\n"
      ],
      "metadata": {
        "colab": {
          "base_uri": "https://localhost:8080/"
        },
        "id": "VEv9YB3E6oTP",
        "outputId": "13b6e233-3c08-46b0-89d1-7697bb662dc4"
      },
      "execution_count": null,
      "outputs": [
        {
          "output_type": "stream",
          "name": "stdout",
          "text": [
            "Ingresa tu nombre: 3DLF\n",
            "Ingresa tu edad: 23\n",
            "3DLF, perteneces al Grupo 2.\n"
          ]
        }
      ]
    },
    {
      "cell_type": "markdown",
      "source": [
        "Escribe un programa que determine el grupo al que pertenece una persona según su país de origen y la longitud de su nombre.\n",
        "\n",
        "Si la persona es de Colombia y su nombre tiene menos de 5 caracteres, pertenece al grupo Colombia A.\n",
        "\n",
        "Si es de México y su nombre tiene 5 o más caracteres, pertenece al grupo México B.\n",
        "\n",
        "Si la persona no es de Colombia ni de México, pertenece al grupo Otros."
      ],
      "metadata": {
        "id": "YDqNs-k97-6z"
      }
    },
    {
      "cell_type": "code",
      "source": [
        "def clasificar_persona(pais, nombre):\n",
        "    pais = pais.upper()\n",
        "    longitud_nombre = len(nombre)\n",
        "\n",
        "    if pais == \"colombia\" and longitud_nombre < 5:\n",
        "        return \"Grupo Colombia A\"\n",
        "    elif pais == \"mexico\" or \"mejico\" and longitud_nombre >= 5:\n",
        "        return \"Grupo Mexico B\"\n",
        "    else:\n",
        "        return \"Grupo otros\"\n",
        "\n",
        "pais = input(\"Ingresa tu país de origen: \")\n",
        "nombre = input(\"Ingresa tu nombre: \")\n",
        "\n",
        "grupo = clasificar_persona(pais, nombre)\n",
        "print(nombre + \", perteneces al \" + grupo)\n",
        "\n"
      ],
      "metadata": {
        "colab": {
          "base_uri": "https://localhost:8080/"
        },
        "id": "rN1r9DPZ8J77",
        "outputId": "e84761f8-ce6a-4c0e-c1f4-5d3670705e64"
      },
      "execution_count": null,
      "outputs": [
        {
          "output_type": "stream",
          "name": "stdout",
          "text": [
            "Ingresa tu país de origen: mejico\n",
            "Ingresa tu nombre: sdfsdfsdfsdf\n",
            "sdfsdfsdfsdf, perteneces al Grupo México B\n"
          ]
        }
      ]
    },
    {
      "cell_type": "markdown",
      "source": [
        "Una empresa otorga una calificación a los proyectos desarrollados por sus empleados en función de la puntuación obtenida al final del año.\n",
        "\n",
        "Las puntuaciones posibles son: 1.0, 1.5, 2.0 o más. Según la puntuación, se asigna un nivel (bajo, medio, alto, excelente) y un bono.\n",
        "\n",
        "La empresa paga una cantidad de dinero proporcional a la puntuación obtenida, multiplicada por 3 millones.\n",
        "\n",
        "Por ejemplo:\n",
        "\n",
        "Si la puntuación es 1.0, el bono será de 3 millones.\n",
        "\n",
        "Si la puntuación es 1.5, el bono será de 4. millones 500.\n",
        "\n",
        "Si la puntuación es 2.0, el bono será de 6 millones.\n",
        "\n",
        "Si la puntuación es 2.5, el bono será de 7 millones 500.\n",
        "\n",
        "\n",
        "Escribe un programa que lea la puntuación de un proyecto y determine el nivel de rendimiento y el bono que recibirá el empleado."
      ],
      "metadata": {
        "id": "ODQ8hzXVCnEs"
      }
    },
    {
      "cell_type": "code",
      "source": [
        "def calcular_bono(puntuacion):\n",
        "    if puntuacion < 1.0:\n",
        "        nivel = \"No elegible\"\n",
        "        bono = 0\n",
        "    elif puntuacion == 1.0:\n",
        "        nivel = \"Bajo\"\n",
        "        bono = 1.0 * 3_000_000\n",
        "    elif puntuacion == 1.5:\n",
        "        nivel = \"Medio\"\n",
        "        bono = 1.5 * 3_000_000\n",
        "    elif puntuacion == 2.0:\n",
        "        nivel = \"Alto\"\n",
        "        bono = 2.0 * 3_000_000\n",
        "    elif puntuacion >= 2.5:\n",
        "        nivel = \"Excelente\"\n",
        "        bono = puntuacion * 3_000_000\n",
        "    else:\n",
        "        nivel = \"No válido\"\n",
        "        bono = 0\n",
        "\n",
        "    return nivel, bono\n",
        "\n",
        "try:\n",
        "    puntuacion = float(input(\"Ingresa la puntuación del proyecto (1.0, 1.5, 2.0 o más): \"))\n",
        "    nivel, bono = calcular_bono(puntuacion)\n",
        "    if nivel == \"No válido\" or puntuacion < 1.0:\n",
        "        print(\"La puntuación ingresada no es válida.\")\n",
        "    else:\n",
        "        print(f\"Nivel de rendimiento: {nivel}\")\n",
        "        print(f\"Bono a recibir: ${bono}\")\n",
        "except ValueError:\n",
        "    print(\"Por favor, ingresa un valor numérico válido.\")\n",
        "\n"
      ],
      "metadata": {
        "colab": {
          "base_uri": "https://localhost:8080/"
        },
        "id": "tfpLekCnCtk8",
        "outputId": "a43bf089-9622-49f9-de8b-f3eb44f32cff"
      },
      "execution_count": null,
      "outputs": [
        {
          "output_type": "stream",
          "name": "stdout",
          "text": [
            "Ingresa la puntuación del proyecto (1.0, 1.5, 2.0 o más): 3\n",
            "Nivel de rendimiento: Excelente\n",
            "Bono a recibir: $9000000.0\n"
          ]
        }
      ]
    },
    {
      "cell_type": "markdown",
      "source": [
        "Sistema de Gestión de Productos.\n",
        "\n",
        "Tiendas ARA demando a la empresa prestadora de servicio TI por un mal desarrollo en un software que le ocasionaron pérdidas millonarias. Mientras esta situación se resuelve el negocio debe continuar y por esta razón lo contratan a usted como Ingeniero(a) de Sistemas para que trabaje en una nueva iniciativa: Sistema de Gestión de Productos (SIGEP).\n",
        "\n",
        "Tras múltiples reuniones se concluyó que SIGEP debe contar con un menú que permita al usuario Agregar un nuevo producto.\n",
        "\n",
        "Eliminar un producto.\n",
        "\n",
        "Actualizar la cantidad y precio de un producto.\n",
        "\n",
        "Mostrar el inventario de productos que están por agotarse, es decir, cuyas cantidades sean inferiores a 5."
      ],
      "metadata": {
        "id": "6BUZ5RKWSvy5"
      }
    },
    {
      "cell_type": "code",
      "source": [
        "class Producto:\n",
        "    def __init__(self, id_producto, nombre, cantidad, precio):\n",
        "        self.id_producto = id_producto\n",
        "        self.nombre = nombre\n",
        "        self.cantidad = cantidad\n",
        "        self.precio = precio\n",
        "\n",
        "    def actualizar_precio_y_cantidad(self, cantidad, precio):\n",
        "        self.cantidad = cantidad\n",
        "        self.precio = precio\n",
        "\n",
        "    def __str__(self):\n",
        "        return f\"ID: {self.id_producto}, Nombre: {self.nombre}, Cantidad: {self.cantidad}, Precio: {self.precio}\"\n",
        "\n",
        "class SistemaGestionProductos:\n",
        "    def __init__(self):\n",
        "        self.productos = {}\n",
        "\n",
        "    def agregar_producto(self):\n",
        "        id_producto = input(\"Ingrese el ID del producto: \")\n",
        "        nombre = input(\"Ingrese el nombre del producto: \")\n",
        "        cantidad = int(input(\"Ingrese la cantidad del producto: \"))\n",
        "        precio = float(input(\"Ingrese el precio del producto: \"))\n",
        "        if id_producto in self.productos:\n",
        "            print(\"El producto ya existe.\")\n",
        "        else:\n",
        "            self.productos[id_producto] = Producto(id_producto, nombre, cantidad, precio)\n",
        "            print(f\"Producto {nombre} agregado correctamente.\")\n",
        "\n",
        "    def eliminar_producto(self):\n",
        "        id_producto = input(\"Ingrese el ID del producto a eliminar: \")\n",
        "        if id_producto in self.productos:\n",
        "            del self.productos[id_producto]\n",
        "            print(f\"Producto con ID {id_producto} eliminado.\")\n",
        "        else:\n",
        "            print(\"Producto no encontrado.\")\n",
        "\n",
        "    def actualizar_producto(self):\n",
        "        id_producto = input(\"Ingrese el ID del producto a actualizar: \")\n",
        "        if id_producto in self.productos:\n",
        "            cantidad = int(input(\"Ingrese la nueva cantidad: \"))\n",
        "            precio = float(input(\"Ingrese el nuevo precio: \"))\n",
        "            self.productos[id_producto].actualizar_precio_y_cantidad(cantidad, precio)\n",
        "            print(\"Producto actualizado correctamente.\")\n",
        "        else:\n",
        "            print(\"Producto no encontrado.\")\n",
        "\n",
        "    def mostrar_productos_por_agotarse(self):\n",
        "        productos_agotados = [p for p in self.productos.values() if p.cantidad < 5]\n",
        "        if productos_agotados:\n",
        "            print(\"Productos por agotarse:\")\n",
        "            for producto in productos_agotados:\n",
        "                print(producto)\n",
        "        else:\n",
        "            print(\"No hay productos por agotarse.\")\n",
        "\n",
        "    def mostrar_menu(self):\n",
        "        while True:\n",
        "            print(\"\\n--- Sistema de Gestión de Productos (SIGEP) ---\")\n",
        "            print(\"1. Agregar un nuevo producto\")\n",
        "            print(\"2. Eliminar un producto\")\n",
        "            print(\"3. Actualizar cantidad y precio de un producto\")\n",
        "            print(\"4. Mostrar productos por agotarse\")\n",
        "            print(\"5. Salir\")\n",
        "            opcion = input(\"Seleccione una opción: \")\n",
        "\n",
        "            if opcion == '1':\n",
        "                self.agregar_producto()\n",
        "            elif opcion == '2':\n",
        "                self.eliminar_producto()\n",
        "            elif opcion == '3':\n",
        "                self.actualizar_producto()\n",
        "            elif opcion == '4':\n",
        "                self.mostrar_productos_por_agotarse()\n",
        "            elif opcion == '5':\n",
        "                print(\"Saliendo del sistema...\")\n",
        "                break\n",
        "            else:\n",
        "                print(\"Opción no válida, por favor intente de nuevo.\")\n",
        "\n",
        "if __name__ == \"__main__\":\n",
        "    sistema = SistemaGestionProductos()\n",
        "    sistema.mostrar_menu()\n"
      ],
      "metadata": {
        "colab": {
          "base_uri": "https://localhost:8080/"
        },
        "id": "3r5WflZVTn9S",
        "outputId": "b25bddc5-e1c8-4eab-802e-82da4c697097"
      },
      "execution_count": null,
      "outputs": [
        {
          "output_type": "stream",
          "name": "stdout",
          "text": [
            "\n",
            "--- Sistema de Gestión de Productos (SIGEP) ---\n",
            "1. Agregar un nuevo producto\n",
            "2. Eliminar un producto\n",
            "3. Actualizar cantidad y precio de un producto\n",
            "4. Mostrar productos por agotarse\n",
            "5. Salir\n",
            "Seleccione una opción: 1\n",
            "Ingrese el ID del producto: 1\n",
            "Ingrese el nombre del producto: soap\n",
            "Ingrese la cantidad del producto: 12\n",
            "Ingrese el precio del producto: 2000\n",
            "Producto soap agregado correctamente.\n",
            "\n",
            "--- Sistema de Gestión de Productos (SIGEP) ---\n",
            "1. Agregar un nuevo producto\n",
            "2. Eliminar un producto\n",
            "3. Actualizar cantidad y precio de un producto\n",
            "4. Mostrar productos por agotarse\n",
            "5. Salir\n",
            "Seleccione una opción: 4\n",
            "No hay productos por agotarse.\n",
            "\n",
            "--- Sistema de Gestión de Productos (SIGEP) ---\n",
            "1. Agregar un nuevo producto\n",
            "2. Eliminar un producto\n",
            "3. Actualizar cantidad y precio de un producto\n",
            "4. Mostrar productos por agotarse\n",
            "5. Salir\n",
            "Seleccione una opción: 5\n",
            "Saliendo del sistema...\n"
          ]
        }
      ]
    },
    {
      "cell_type": "markdown",
      "source": [
        "**Clase 3**"
      ],
      "metadata": {
        "id": "YhArJYcYBGUD"
      }
    },
    {
      "cell_type": "markdown",
      "source": [
        "NumPy es una biblioteca de código abierto para Python que se utiliza para realizar cálculos numéricos y estadísticas, especialmente en la ciencia de datos y la inteligencia artificial:\n",
        "\n",
        "Permite crear y manipular vectores y matrices multidimensionales\n",
        "Ofrece una gran colección de funciones matemáticas de alto nivel\n",
        "Es fundamental para el análisis de datos, el aprendizaje automático y la computación científica\n",
        "\n",
        "Algunas de las características de NumPy son:\n",
        "Se integra fácilmente con C/C++ y Fortran\n",
        "Permite trabajar con una variedad de tipos POD (Plain Old Data)\n",
        "Invoca métodos de forma vectorizada\n",
        "\n",
        "Permite realizar operaciones aritméticas con arreglos\n",
        "Es interoperable y soporta una amplia gama de hardware y plataformas de computación\n",
        "\n",
        "Es fácil de usar y su sintaxis de alto nivel lo hace accesible para programadores de cualquier nivel de experiencia\n",
        "\n",
        "Algunas funciones de NumPy para crear arrays son:\n",
        "array(): Crea un array a partir de otras colecciones de datos de Python, como listas o tuplas\n",
        "zeros(): Inicializa un array con todos los valores a 0\n",
        "ones(): Inicializa un array con todos los valores a 1\n",
        "full(): Inicializa un array con todos los valores a un valor predeterminado\n",
        "arange(): Emula la secuencia nativa de Python range(), pero permite usar límites y pasos con valores reales\n",
        "NumPy fue lanzado en 2005 por el científico de datos Travis Oliphant."
      ],
      "metadata": {
        "id": "bxgbx5HuCn7w"
      }
    },
    {
      "cell_type": "code",
      "source": [
        "import numpy as np\n",
        "\n",
        "numeros_naturales = np.array([0,1,2,3,4,5,6,7,8,9])\n",
        "\n",
        "numeros_naturales"
      ],
      "metadata": {
        "colab": {
          "base_uri": "https://localhost:8080/"
        },
        "id": "s1L8xExwBR1K",
        "outputId": "6467566f-9560-437e-dedb-d070db7d6c09"
      },
      "execution_count": null,
      "outputs": [
        {
          "output_type": "execute_result",
          "data": {
            "text/plain": [
              "array([0, 1, 2, 3, 4, 5, 6, 7, 8, 9])"
            ]
          },
          "metadata": {},
          "execution_count": 5
        }
      ]
    },
    {
      "cell_type": "code",
      "source": [
        "multiplicar_3 = numeros_naturales * 2\n",
        "\n",
        "multiplicar_3"
      ],
      "metadata": {
        "colab": {
          "base_uri": "https://localhost:8080/"
        },
        "id": "loWkbACSDHZq",
        "outputId": "c3ce98f7-e666-41f1-9cfc-609efeb822dc"
      },
      "execution_count": null,
      "outputs": [
        {
          "output_type": "execute_result",
          "data": {
            "text/plain": [
              "array([ 0,  2,  4,  6,  8, 10, 12, 14, 16, 18])"
            ]
          },
          "metadata": {},
          "execution_count": 6
        }
      ]
    },
    {
      "cell_type": "code",
      "source": [
        "numeros_naturales.max()"
      ],
      "metadata": {
        "colab": {
          "base_uri": "https://localhost:8080/"
        },
        "id": "Ab-78kgoD95B",
        "outputId": "cb240b0e-065d-4028-8300-221eb8f02f1d"
      },
      "execution_count": null,
      "outputs": [
        {
          "output_type": "execute_result",
          "data": {
            "text/plain": [
              "9"
            ]
          },
          "metadata": {},
          "execution_count": 10
        }
      ]
    },
    {
      "cell_type": "code",
      "source": [
        "numeros_naturales.sum()"
      ],
      "metadata": {
        "colab": {
          "base_uri": "https://localhost:8080/"
        },
        "id": "YLi0yhyZEduq",
        "outputId": "4ffb1442-f6f0-4388-f331-2376d2b2a80d"
      },
      "execution_count": null,
      "outputs": [
        {
          "output_type": "execute_result",
          "data": {
            "text/plain": [
              "45"
            ]
          },
          "metadata": {},
          "execution_count": 11
        }
      ]
    },
    {
      "cell_type": "code",
      "source": [
        "numeros_naturales.min()"
      ],
      "metadata": {
        "id": "iSHsG15KEgtU"
      },
      "execution_count": null,
      "outputs": []
    },
    {
      "cell_type": "code",
      "source": [
        "numeros_naturales[2:]"
      ],
      "metadata": {
        "colab": {
          "base_uri": "https://localhost:8080/"
        },
        "id": "xfKxZHIKE_JU",
        "outputId": "7e93b068-6524-4757-fecf-199900d93fd7"
      },
      "execution_count": null,
      "outputs": [
        {
          "output_type": "execute_result",
          "data": {
            "text/plain": [
              "array([2, 3, 4, 5, 6, 7, 8, 9])"
            ]
          },
          "metadata": {},
          "execution_count": 12
        }
      ]
    },
    {
      "cell_type": "code",
      "source": [
        "numeros_naturales[:2]"
      ],
      "metadata": {
        "colab": {
          "base_uri": "https://localhost:8080/"
        },
        "id": "cIXYFWXTFWIv",
        "outputId": "eaa459ef-20a0-4492-9d4d-366d1b51e5c5"
      },
      "execution_count": null,
      "outputs": [
        {
          "output_type": "execute_result",
          "data": {
            "text/plain": [
              "array([0, 1])"
            ]
          },
          "metadata": {},
          "execution_count": 13
        }
      ]
    },
    {
      "cell_type": "code",
      "source": [
        "numeros_naturales[3]"
      ],
      "metadata": {
        "colab": {
          "base_uri": "https://localhost:8080/"
        },
        "id": "b_vEvGh0QaoN",
        "outputId": "c008be4b-a181-4165-e2bb-3645d12a5de8"
      },
      "execution_count": null,
      "outputs": [
        {
          "output_type": "execute_result",
          "data": {
            "text/plain": [
              "3"
            ]
          },
          "metadata": {},
          "execution_count": 24
        }
      ]
    },
    {
      "cell_type": "markdown",
      "source": [
        "Array multidimencional\n"
      ],
      "metadata": {
        "id": "WnlFy6q-OsCJ"
      }
    },
    {
      "cell_type": "code",
      "source": [
        "array_multidimencional = np.array([[1,2,3,4],[5,6,7,8]])\n",
        "array_multidimencional"
      ],
      "metadata": {
        "colab": {
          "base_uri": "https://localhost:8080/"
        },
        "id": "pRogzWj6O2kE",
        "outputId": "3bb48881-f5e9-4581-c5a2-f892c609f3b0"
      },
      "execution_count": null,
      "outputs": [
        {
          "output_type": "execute_result",
          "data": {
            "text/plain": [
              "array([[1, 2, 3, 4],\n",
              "       [5, 6, 7, 8]])"
            ]
          },
          "metadata": {},
          "execution_count": 19
        }
      ]
    },
    {
      "cell_type": "code",
      "source": [
        "array_multidimencional_3 = np.array([[1,2,3,4],[5,6,7,8],[9,10,11,12]])\n",
        "array_multidimencional_3"
      ],
      "metadata": {
        "colab": {
          "base_uri": "https://localhost:8080/"
        },
        "id": "66tBYGeiP65p",
        "outputId": "456abb5c-42b5-417c-f87d-ca8ef4f9c916"
      },
      "execution_count": null,
      "outputs": [
        {
          "output_type": "execute_result",
          "data": {
            "text/plain": [
              "array([[ 1,  2,  3,  4],\n",
              "       [ 5,  6,  7,  8],\n",
              "       [ 9, 10, 11, 12]])"
            ]
          },
          "metadata": {},
          "execution_count": 22
        }
      ]
    },
    {
      "cell_type": "markdown",
      "source": [
        "Mostrar fila"
      ],
      "metadata": {
        "id": "ehc2K6CCRNSU"
      }
    },
    {
      "cell_type": "code",
      "source": [
        "array_multidimencional_3[0]"
      ],
      "metadata": {
        "colab": {
          "base_uri": "https://localhost:8080/"
        },
        "id": "d2Y5Hw06QopC",
        "outputId": "376c7521-5c4e-444a-91a7-557603ba85d1"
      },
      "execution_count": null,
      "outputs": [
        {
          "output_type": "execute_result",
          "data": {
            "text/plain": [
              "array([1, 2, 3, 4])"
            ]
          },
          "metadata": {},
          "execution_count": 25
        }
      ]
    },
    {
      "cell_type": "markdown",
      "source": [
        "Mostrar fila y columna"
      ],
      "metadata": {
        "id": "CVB4F6eaRFUX"
      }
    },
    {
      "cell_type": "code",
      "source": [
        "array_multidimencional_3[0][1]"
      ],
      "metadata": {
        "colab": {
          "base_uri": "https://localhost:8080/"
        },
        "id": "sbgjs846Qs1f",
        "outputId": "4bba806d-caab-4a2e-850f-f99e26543f5e"
      },
      "execution_count": null,
      "outputs": [
        {
          "output_type": "execute_result",
          "data": {
            "text/plain": [
              "2"
            ]
          },
          "metadata": {},
          "execution_count": 29
        }
      ]
    },
    {
      "cell_type": "markdown",
      "source": [
        "Como ver los valores desde la fila 0 hasta la 2"
      ],
      "metadata": {
        "id": "k0N-q1-VRX_c"
      }
    },
    {
      "cell_type": "code",
      "source": [
        "array_multidimencional_3[:2]"
      ],
      "metadata": {
        "colab": {
          "base_uri": "https://localhost:8080/"
        },
        "id": "dWrGJRH_RYNS",
        "outputId": "37c0d2e4-ca05-479b-91b1-dc7083eba6fc"
      },
      "execution_count": null,
      "outputs": [
        {
          "output_type": "execute_result",
          "data": {
            "text/plain": [
              "array([[1, 2, 3, 4],\n",
              "       [5, 6, 7, 8]])"
            ]
          },
          "metadata": {},
          "execution_count": 31
        }
      ]
    },
    {
      "cell_type": "code",
      "source": [
        "array_multidimencional_3[:2,1:]"
      ],
      "metadata": {
        "colab": {
          "base_uri": "https://localhost:8080/"
        },
        "id": "4NRMyYLUR2ZV",
        "outputId": "d1e3c190-50b4-49a1-b023-387eb3de17c5"
      },
      "execution_count": null,
      "outputs": [
        {
          "output_type": "execute_result",
          "data": {
            "text/plain": [
              "array([[2, 3, 4],\n",
              "       [6, 7, 8]])"
            ]
          },
          "metadata": {},
          "execution_count": 32
        }
      ]
    },
    {
      "cell_type": "code",
      "source": [
        "array_multidimencional_3.max()"
      ],
      "metadata": {
        "colab": {
          "base_uri": "https://localhost:8080/"
        },
        "id": "XiaQA4CCTqQP",
        "outputId": "3e091949-45c7-45d5-dd5c-b4d3b546214c"
      },
      "execution_count": null,
      "outputs": [
        {
          "output_type": "execute_result",
          "data": {
            "text/plain": [
              "12"
            ]
          },
          "metadata": {},
          "execution_count": 37
        }
      ]
    },
    {
      "cell_type": "code",
      "source": [
        "array_multidimencional_3.max(axis=0)"
      ],
      "metadata": {
        "colab": {
          "base_uri": "https://localhost:8080/"
        },
        "id": "xP76ygaOTveQ",
        "outputId": "7098ca02-d295-472b-b23e-fa0e11c143c8"
      },
      "execution_count": null,
      "outputs": [
        {
          "output_type": "execute_result",
          "data": {
            "text/plain": [
              "array([ 9, 10, 11, 12])"
            ]
          },
          "metadata": {},
          "execution_count": 34
        }
      ]
    },
    {
      "cell_type": "code",
      "source": [
        "array_multidimencional_3.max(axis=1)"
      ],
      "metadata": {
        "colab": {
          "base_uri": "https://localhost:8080/"
        },
        "id": "X9XSqdNPT4eJ",
        "outputId": "cc3801b9-eb7f-42a8-839c-302bb8088116"
      },
      "execution_count": null,
      "outputs": [
        {
          "output_type": "execute_result",
          "data": {
            "text/plain": [
              "array([ 4,  8, 12])"
            ]
          },
          "metadata": {},
          "execution_count": 35
        }
      ]
    },
    {
      "cell_type": "markdown",
      "source": [
        "¿Qué es pandas?\n",
        "\n",
        " En Computación y Ciencia de datos, pandas es una biblioteca de software escrita como extensión de Numpy para manipulación y análisis de datos para el lenguaje de programación Python. En particular, ofrece estructuras de datos y operaciones para manipular tablas numéricas y series temporales."
      ],
      "metadata": {
        "id": "USYXTmYIVr3v"
      }
    },
    {
      "cell_type": "code",
      "source": [
        "import pandas as pd\n",
        "\n",
        "futbol_dic = {\n",
        "    \"player\": [\"leonel messi\", \"cristiano ronaldo\"],\n",
        "    \"year\": [2016,2016],\n",
        "    \"goals\": [37,25],\n",
        "}\n",
        "\n",
        "data = pd.DataFrame(futbol_dic)\n",
        "data"
      ],
      "metadata": {
        "colab": {
          "base_uri": "https://localhost:8080/",
          "height": 125
        },
        "id": "BYy5S1KBVvrT",
        "outputId": "22517b64-acc5-4a4c-b2a1-67f4d8419d7d"
      },
      "execution_count": null,
      "outputs": [
        {
          "output_type": "execute_result",
          "data": {
            "text/plain": [
              "              player  year  goals\n",
              "0       leonel messi  2016     37\n",
              "1  cristiano ronaldo  2016     25"
            ],
            "text/html": [
              "\n",
              "  <div id=\"df-30d4cb90-96fd-4f2f-8867-c29c088174be\" class=\"colab-df-container\">\n",
              "    <div>\n",
              "<style scoped>\n",
              "    .dataframe tbody tr th:only-of-type {\n",
              "        vertical-align: middle;\n",
              "    }\n",
              "\n",
              "    .dataframe tbody tr th {\n",
              "        vertical-align: top;\n",
              "    }\n",
              "\n",
              "    .dataframe thead th {\n",
              "        text-align: right;\n",
              "    }\n",
              "</style>\n",
              "<table border=\"1\" class=\"dataframe\">\n",
              "  <thead>\n",
              "    <tr style=\"text-align: right;\">\n",
              "      <th></th>\n",
              "      <th>player</th>\n",
              "      <th>year</th>\n",
              "      <th>goals</th>\n",
              "    </tr>\n",
              "  </thead>\n",
              "  <tbody>\n",
              "    <tr>\n",
              "      <th>0</th>\n",
              "      <td>leonel messi</td>\n",
              "      <td>2016</td>\n",
              "      <td>37</td>\n",
              "    </tr>\n",
              "    <tr>\n",
              "      <th>1</th>\n",
              "      <td>cristiano ronaldo</td>\n",
              "      <td>2016</td>\n",
              "      <td>25</td>\n",
              "    </tr>\n",
              "  </tbody>\n",
              "</table>\n",
              "</div>\n",
              "    <div class=\"colab-df-buttons\">\n",
              "\n",
              "  <div class=\"colab-df-container\">\n",
              "    <button class=\"colab-df-convert\" onclick=\"convertToInteractive('df-30d4cb90-96fd-4f2f-8867-c29c088174be')\"\n",
              "            title=\"Convert this dataframe to an interactive table.\"\n",
              "            style=\"display:none;\">\n",
              "\n",
              "  <svg xmlns=\"http://www.w3.org/2000/svg\" height=\"24px\" viewBox=\"0 -960 960 960\">\n",
              "    <path d=\"M120-120v-720h720v720H120Zm60-500h600v-160H180v160Zm220 220h160v-160H400v160Zm0 220h160v-160H400v160ZM180-400h160v-160H180v160Zm440 0h160v-160H620v160ZM180-180h160v-160H180v160Zm440 0h160v-160H620v160Z\"/>\n",
              "  </svg>\n",
              "    </button>\n",
              "\n",
              "  <style>\n",
              "    .colab-df-container {\n",
              "      display:flex;\n",
              "      gap: 12px;\n",
              "    }\n",
              "\n",
              "    .colab-df-convert {\n",
              "      background-color: #E8F0FE;\n",
              "      border: none;\n",
              "      border-radius: 50%;\n",
              "      cursor: pointer;\n",
              "      display: none;\n",
              "      fill: #1967D2;\n",
              "      height: 32px;\n",
              "      padding: 0 0 0 0;\n",
              "      width: 32px;\n",
              "    }\n",
              "\n",
              "    .colab-df-convert:hover {\n",
              "      background-color: #E2EBFA;\n",
              "      box-shadow: 0px 1px 2px rgba(60, 64, 67, 0.3), 0px 1px 3px 1px rgba(60, 64, 67, 0.15);\n",
              "      fill: #174EA6;\n",
              "    }\n",
              "\n",
              "    .colab-df-buttons div {\n",
              "      margin-bottom: 4px;\n",
              "    }\n",
              "\n",
              "    [theme=dark] .colab-df-convert {\n",
              "      background-color: #3B4455;\n",
              "      fill: #D2E3FC;\n",
              "    }\n",
              "\n",
              "    [theme=dark] .colab-df-convert:hover {\n",
              "      background-color: #434B5C;\n",
              "      box-shadow: 0px 1px 3px 1px rgba(0, 0, 0, 0.15);\n",
              "      filter: drop-shadow(0px 1px 2px rgba(0, 0, 0, 0.3));\n",
              "      fill: #FFFFFF;\n",
              "    }\n",
              "  </style>\n",
              "\n",
              "    <script>\n",
              "      const buttonEl =\n",
              "        document.querySelector('#df-30d4cb90-96fd-4f2f-8867-c29c088174be button.colab-df-convert');\n",
              "      buttonEl.style.display =\n",
              "        google.colab.kernel.accessAllowed ? 'block' : 'none';\n",
              "\n",
              "      async function convertToInteractive(key) {\n",
              "        const element = document.querySelector('#df-30d4cb90-96fd-4f2f-8867-c29c088174be');\n",
              "        const dataTable =\n",
              "          await google.colab.kernel.invokeFunction('convertToInteractive',\n",
              "                                                    [key], {});\n",
              "        if (!dataTable) return;\n",
              "\n",
              "        const docLinkHtml = 'Like what you see? Visit the ' +\n",
              "          '<a target=\"_blank\" href=https://colab.research.google.com/notebooks/data_table.ipynb>data table notebook</a>'\n",
              "          + ' to learn more about interactive tables.';\n",
              "        element.innerHTML = '';\n",
              "        dataTable['output_type'] = 'display_data';\n",
              "        await google.colab.output.renderOutput(dataTable, element);\n",
              "        const docLink = document.createElement('div');\n",
              "        docLink.innerHTML = docLinkHtml;\n",
              "        element.appendChild(docLink);\n",
              "      }\n",
              "    </script>\n",
              "  </div>\n",
              "\n",
              "\n",
              "<div id=\"df-2fcd27e8-0fd8-4f46-b69a-59a972dc4798\">\n",
              "  <button class=\"colab-df-quickchart\" onclick=\"quickchart('df-2fcd27e8-0fd8-4f46-b69a-59a972dc4798')\"\n",
              "            title=\"Suggest charts\"\n",
              "            style=\"display:none;\">\n",
              "\n",
              "<svg xmlns=\"http://www.w3.org/2000/svg\" height=\"24px\"viewBox=\"0 0 24 24\"\n",
              "     width=\"24px\">\n",
              "    <g>\n",
              "        <path d=\"M19 3H5c-1.1 0-2 .9-2 2v14c0 1.1.9 2 2 2h14c1.1 0 2-.9 2-2V5c0-1.1-.9-2-2-2zM9 17H7v-7h2v7zm4 0h-2V7h2v10zm4 0h-2v-4h2v4z\"/>\n",
              "    </g>\n",
              "</svg>\n",
              "  </button>\n",
              "\n",
              "<style>\n",
              "  .colab-df-quickchart {\n",
              "      --bg-color: #E8F0FE;\n",
              "      --fill-color: #1967D2;\n",
              "      --hover-bg-color: #E2EBFA;\n",
              "      --hover-fill-color: #174EA6;\n",
              "      --disabled-fill-color: #AAA;\n",
              "      --disabled-bg-color: #DDD;\n",
              "  }\n",
              "\n",
              "  [theme=dark] .colab-df-quickchart {\n",
              "      --bg-color: #3B4455;\n",
              "      --fill-color: #D2E3FC;\n",
              "      --hover-bg-color: #434B5C;\n",
              "      --hover-fill-color: #FFFFFF;\n",
              "      --disabled-bg-color: #3B4455;\n",
              "      --disabled-fill-color: #666;\n",
              "  }\n",
              "\n",
              "  .colab-df-quickchart {\n",
              "    background-color: var(--bg-color);\n",
              "    border: none;\n",
              "    border-radius: 50%;\n",
              "    cursor: pointer;\n",
              "    display: none;\n",
              "    fill: var(--fill-color);\n",
              "    height: 32px;\n",
              "    padding: 0;\n",
              "    width: 32px;\n",
              "  }\n",
              "\n",
              "  .colab-df-quickchart:hover {\n",
              "    background-color: var(--hover-bg-color);\n",
              "    box-shadow: 0 1px 2px rgba(60, 64, 67, 0.3), 0 1px 3px 1px rgba(60, 64, 67, 0.15);\n",
              "    fill: var(--button-hover-fill-color);\n",
              "  }\n",
              "\n",
              "  .colab-df-quickchart-complete:disabled,\n",
              "  .colab-df-quickchart-complete:disabled:hover {\n",
              "    background-color: var(--disabled-bg-color);\n",
              "    fill: var(--disabled-fill-color);\n",
              "    box-shadow: none;\n",
              "  }\n",
              "\n",
              "  .colab-df-spinner {\n",
              "    border: 2px solid var(--fill-color);\n",
              "    border-color: transparent;\n",
              "    border-bottom-color: var(--fill-color);\n",
              "    animation:\n",
              "      spin 1s steps(1) infinite;\n",
              "  }\n",
              "\n",
              "  @keyframes spin {\n",
              "    0% {\n",
              "      border-color: transparent;\n",
              "      border-bottom-color: var(--fill-color);\n",
              "      border-left-color: var(--fill-color);\n",
              "    }\n",
              "    20% {\n",
              "      border-color: transparent;\n",
              "      border-left-color: var(--fill-color);\n",
              "      border-top-color: var(--fill-color);\n",
              "    }\n",
              "    30% {\n",
              "      border-color: transparent;\n",
              "      border-left-color: var(--fill-color);\n",
              "      border-top-color: var(--fill-color);\n",
              "      border-right-color: var(--fill-color);\n",
              "    }\n",
              "    40% {\n",
              "      border-color: transparent;\n",
              "      border-right-color: var(--fill-color);\n",
              "      border-top-color: var(--fill-color);\n",
              "    }\n",
              "    60% {\n",
              "      border-color: transparent;\n",
              "      border-right-color: var(--fill-color);\n",
              "    }\n",
              "    80% {\n",
              "      border-color: transparent;\n",
              "      border-right-color: var(--fill-color);\n",
              "      border-bottom-color: var(--fill-color);\n",
              "    }\n",
              "    90% {\n",
              "      border-color: transparent;\n",
              "      border-bottom-color: var(--fill-color);\n",
              "    }\n",
              "  }\n",
              "</style>\n",
              "\n",
              "  <script>\n",
              "    async function quickchart(key) {\n",
              "      const quickchartButtonEl =\n",
              "        document.querySelector('#' + key + ' button');\n",
              "      quickchartButtonEl.disabled = true;  // To prevent multiple clicks.\n",
              "      quickchartButtonEl.classList.add('colab-df-spinner');\n",
              "      try {\n",
              "        const charts = await google.colab.kernel.invokeFunction(\n",
              "            'suggestCharts', [key], {});\n",
              "      } catch (error) {\n",
              "        console.error('Error during call to suggestCharts:', error);\n",
              "      }\n",
              "      quickchartButtonEl.classList.remove('colab-df-spinner');\n",
              "      quickchartButtonEl.classList.add('colab-df-quickchart-complete');\n",
              "    }\n",
              "    (() => {\n",
              "      let quickchartButtonEl =\n",
              "        document.querySelector('#df-2fcd27e8-0fd8-4f46-b69a-59a972dc4798 button');\n",
              "      quickchartButtonEl.style.display =\n",
              "        google.colab.kernel.accessAllowed ? 'block' : 'none';\n",
              "    })();\n",
              "  </script>\n",
              "</div>\n",
              "\n",
              "  <div id=\"id_81463c57-6a99-45a1-9edf-500648562156\">\n",
              "    <style>\n",
              "      .colab-df-generate {\n",
              "        background-color: #E8F0FE;\n",
              "        border: none;\n",
              "        border-radius: 50%;\n",
              "        cursor: pointer;\n",
              "        display: none;\n",
              "        fill: #1967D2;\n",
              "        height: 32px;\n",
              "        padding: 0 0 0 0;\n",
              "        width: 32px;\n",
              "      }\n",
              "\n",
              "      .colab-df-generate:hover {\n",
              "        background-color: #E2EBFA;\n",
              "        box-shadow: 0px 1px 2px rgba(60, 64, 67, 0.3), 0px 1px 3px 1px rgba(60, 64, 67, 0.15);\n",
              "        fill: #174EA6;\n",
              "      }\n",
              "\n",
              "      [theme=dark] .colab-df-generate {\n",
              "        background-color: #3B4455;\n",
              "        fill: #D2E3FC;\n",
              "      }\n",
              "\n",
              "      [theme=dark] .colab-df-generate:hover {\n",
              "        background-color: #434B5C;\n",
              "        box-shadow: 0px 1px 3px 1px rgba(0, 0, 0, 0.15);\n",
              "        filter: drop-shadow(0px 1px 2px rgba(0, 0, 0, 0.3));\n",
              "        fill: #FFFFFF;\n",
              "      }\n",
              "    </style>\n",
              "    <button class=\"colab-df-generate\" onclick=\"generateWithVariable('data')\"\n",
              "            title=\"Generate code using this dataframe.\"\n",
              "            style=\"display:none;\">\n",
              "\n",
              "  <svg xmlns=\"http://www.w3.org/2000/svg\" height=\"24px\"viewBox=\"0 0 24 24\"\n",
              "       width=\"24px\">\n",
              "    <path d=\"M7,19H8.4L18.45,9,17,7.55,7,17.6ZM5,21V16.75L18.45,3.32a2,2,0,0,1,2.83,0l1.4,1.43a1.91,1.91,0,0,1,.58,1.4,1.91,1.91,0,0,1-.58,1.4L9.25,21ZM18.45,9,17,7.55Zm-12,3A5.31,5.31,0,0,0,4.9,8.1,5.31,5.31,0,0,0,1,6.5,5.31,5.31,0,0,0,4.9,4.9,5.31,5.31,0,0,0,6.5,1,5.31,5.31,0,0,0,8.1,4.9,5.31,5.31,0,0,0,12,6.5,5.46,5.46,0,0,0,6.5,12Z\"/>\n",
              "  </svg>\n",
              "    </button>\n",
              "    <script>\n",
              "      (() => {\n",
              "      const buttonEl =\n",
              "        document.querySelector('#id_81463c57-6a99-45a1-9edf-500648562156 button.colab-df-generate');\n",
              "      buttonEl.style.display =\n",
              "        google.colab.kernel.accessAllowed ? 'block' : 'none';\n",
              "\n",
              "      buttonEl.onclick = () => {\n",
              "        google.colab.notebook.generateWithVariable('data');\n",
              "      }\n",
              "      })();\n",
              "    </script>\n",
              "  </div>\n",
              "\n",
              "    </div>\n",
              "  </div>\n"
            ],
            "application/vnd.google.colaboratory.intrinsic+json": {
              "type": "dataframe",
              "variable_name": "data",
              "summary": "{\n  \"name\": \"data\",\n  \"rows\": 2,\n  \"fields\": [\n    {\n      \"column\": \"player\",\n      \"properties\": {\n        \"dtype\": \"string\",\n        \"num_unique_values\": 2,\n        \"samples\": [\n          \"cristiano ronaldo\",\n          \"leonel messi\"\n        ],\n        \"semantic_type\": \"\",\n        \"description\": \"\"\n      }\n    },\n    {\n      \"column\": \"year\",\n      \"properties\": {\n        \"dtype\": \"number\",\n        \"std\": 0,\n        \"min\": 2016,\n        \"max\": 2016,\n        \"num_unique_values\": 1,\n        \"samples\": [\n          2016\n        ],\n        \"semantic_type\": \"\",\n        \"description\": \"\"\n      }\n    },\n    {\n      \"column\": \"goals\",\n      \"properties\": {\n        \"dtype\": \"number\",\n        \"std\": 8,\n        \"min\": 25,\n        \"max\": 37,\n        \"num_unique_values\": 2,\n        \"samples\": [\n          25\n        ],\n        \"semantic_type\": \"\",\n        \"description\": \"\"\n      }\n    }\n  ]\n}"
            }
          },
          "metadata": {},
          "execution_count": 44
        }
      ]
    },
    {
      "cell_type": "markdown",
      "source": [
        "Vamos a tratar de datos de un archivo externo de Drive\n"
      ],
      "metadata": {
        "id": "oW52YpccX0AP"
      }
    },
    {
      "cell_type": "code",
      "source": [
        "from google.colab import drive\n",
        "drive.mount('/content/drive/')\n",
        "\n",
        "import numpy as np\n",
        "import pandas as pd\n",
        "\n",
        "import plotly.express as px\n",
        "\n",
        "path_file=\"/content/sample_data/california_housing_test.csv\"\n",
        "df=pd.read_csv(path_file, sep=\",\",header=0)\n",
        "print(df.head())\n",
        "print(df.shape)"
      ],
      "metadata": {
        "colab": {
          "base_uri": "https://localhost:8080/"
        },
        "id": "FpOFowr8Xyum",
        "outputId": "d64f9d3c-844c-48c7-c81c-9ca26e49a1b0"
      },
      "execution_count": null,
      "outputs": [
        {
          "output_type": "stream",
          "name": "stdout",
          "text": [
            "Drive already mounted at /content/drive/; to attempt to forcibly remount, call drive.mount(\"/content/drive/\", force_remount=True).\n",
            "   longitude  latitude  housing_median_age  total_rooms  total_bedrooms  \\\n",
            "0    -122.05     37.37                27.0       3885.0           661.0   \n",
            "1    -118.30     34.26                43.0       1510.0           310.0   \n",
            "2    -117.81     33.78                27.0       3589.0           507.0   \n",
            "3    -118.36     33.82                28.0         67.0            15.0   \n",
            "4    -119.67     36.33                19.0       1241.0           244.0   \n",
            "\n",
            "   population  households  median_income  median_house_value  \n",
            "0      1537.0       606.0         6.6085            344700.0  \n",
            "1       809.0       277.0         3.5990            176500.0  \n",
            "2      1484.0       495.0         5.7934            270500.0  \n",
            "3        49.0        11.0         6.1359            330000.0  \n",
            "4       850.0       237.0         2.9375             81700.0  \n",
            "(3000, 9)\n"
          ]
        }
      ]
    },
    {
      "cell_type": "markdown",
      "source": [
        "Funciones de Pandas"
      ],
      "metadata": {
        "id": "_PQISuA-k6C9"
      }
    },
    {
      "cell_type": "code",
      "source": [
        "df.columns"
      ],
      "metadata": {
        "colab": {
          "base_uri": "https://localhost:8080/"
        },
        "id": "by0CjqkSho4Z",
        "outputId": "58078321-5b74-4cc8-eaec-f8139b86cc6f"
      },
      "execution_count": null,
      "outputs": [
        {
          "output_type": "execute_result",
          "data": {
            "text/plain": [
              "Index(['longitude', 'latitude', 'housing_median_age', 'total_rooms',\n",
              "       'total_bedrooms', 'population', 'households', 'median_income',\n",
              "       'median_house_value'],\n",
              "      dtype='object')"
            ]
          },
          "metadata": {},
          "execution_count": 54
        }
      ]
    },
    {
      "cell_type": "code",
      "source": [
        "df['housing_median_age'].value_counts()"
      ],
      "metadata": {
        "colab": {
          "base_uri": "https://localhost:8080/",
          "height": 1000
        },
        "id": "QqF75EM-kaiY",
        "outputId": "a4a4ce4f-03fc-433d-a069-863718294175"
      },
      "execution_count": null,
      "outputs": [
        {
          "output_type": "execute_result",
          "data": {
            "text/plain": [
              "housing_median_age\n",
              "52.0    173\n",
              "35.0    118\n",
              "36.0    115\n",
              "16.0    107\n",
              "34.0    102\n",
              "17.0    100\n",
              "32.0     91\n",
              "37.0     88\n",
              "26.0     88\n",
              "25.0     86\n",
              "33.0     85\n",
              "15.0     77\n",
              "19.0     76\n",
              "18.0     76\n",
              "30.0     76\n",
              "24.0     75\n",
              "29.0     75\n",
              "27.0     74\n",
              "38.0     64\n",
              "20.0     63\n",
              "21.0     61\n",
              "22.0     60\n",
              "28.0     58\n",
              "14.0     57\n",
              "31.0     57\n",
              "41.0     56\n",
              "43.0     56\n",
              "39.0     55\n",
              "23.0     53\n",
              "44.0     51\n",
              "45.0     51\n",
              "42.0     51\n",
              "40.0     43\n",
              "46.0     41\n",
              "11.0     41\n",
              "12.0     41\n",
              "13.0     41\n",
              "5.0      39\n",
              "48.0     34\n",
              "10.0     30\n",
              "4.0      28\n",
              "9.0      27\n",
              "6.0      25\n",
              "8.0      25\n",
              "47.0     22\n",
              "49.0     21\n",
              "7.0      20\n",
              "50.0     16\n",
              "3.0      12\n",
              "51.0     11\n",
              "2.0       6\n",
              "1.0       2\n",
              "Name: count, dtype: int64"
            ],
            "text/html": [
              "<div>\n",
              "<style scoped>\n",
              "    .dataframe tbody tr th:only-of-type {\n",
              "        vertical-align: middle;\n",
              "    }\n",
              "\n",
              "    .dataframe tbody tr th {\n",
              "        vertical-align: top;\n",
              "    }\n",
              "\n",
              "    .dataframe thead th {\n",
              "        text-align: right;\n",
              "    }\n",
              "</style>\n",
              "<table border=\"1\" class=\"dataframe\">\n",
              "  <thead>\n",
              "    <tr style=\"text-align: right;\">\n",
              "      <th></th>\n",
              "      <th>count</th>\n",
              "    </tr>\n",
              "    <tr>\n",
              "      <th>housing_median_age</th>\n",
              "      <th></th>\n",
              "    </tr>\n",
              "  </thead>\n",
              "  <tbody>\n",
              "    <tr>\n",
              "      <th>52.0</th>\n",
              "      <td>173</td>\n",
              "    </tr>\n",
              "    <tr>\n",
              "      <th>35.0</th>\n",
              "      <td>118</td>\n",
              "    </tr>\n",
              "    <tr>\n",
              "      <th>36.0</th>\n",
              "      <td>115</td>\n",
              "    </tr>\n",
              "    <tr>\n",
              "      <th>16.0</th>\n",
              "      <td>107</td>\n",
              "    </tr>\n",
              "    <tr>\n",
              "      <th>34.0</th>\n",
              "      <td>102</td>\n",
              "    </tr>\n",
              "    <tr>\n",
              "      <th>17.0</th>\n",
              "      <td>100</td>\n",
              "    </tr>\n",
              "    <tr>\n",
              "      <th>32.0</th>\n",
              "      <td>91</td>\n",
              "    </tr>\n",
              "    <tr>\n",
              "      <th>37.0</th>\n",
              "      <td>88</td>\n",
              "    </tr>\n",
              "    <tr>\n",
              "      <th>26.0</th>\n",
              "      <td>88</td>\n",
              "    </tr>\n",
              "    <tr>\n",
              "      <th>25.0</th>\n",
              "      <td>86</td>\n",
              "    </tr>\n",
              "    <tr>\n",
              "      <th>33.0</th>\n",
              "      <td>85</td>\n",
              "    </tr>\n",
              "    <tr>\n",
              "      <th>15.0</th>\n",
              "      <td>77</td>\n",
              "    </tr>\n",
              "    <tr>\n",
              "      <th>19.0</th>\n",
              "      <td>76</td>\n",
              "    </tr>\n",
              "    <tr>\n",
              "      <th>18.0</th>\n",
              "      <td>76</td>\n",
              "    </tr>\n",
              "    <tr>\n",
              "      <th>30.0</th>\n",
              "      <td>76</td>\n",
              "    </tr>\n",
              "    <tr>\n",
              "      <th>24.0</th>\n",
              "      <td>75</td>\n",
              "    </tr>\n",
              "    <tr>\n",
              "      <th>29.0</th>\n",
              "      <td>75</td>\n",
              "    </tr>\n",
              "    <tr>\n",
              "      <th>27.0</th>\n",
              "      <td>74</td>\n",
              "    </tr>\n",
              "    <tr>\n",
              "      <th>38.0</th>\n",
              "      <td>64</td>\n",
              "    </tr>\n",
              "    <tr>\n",
              "      <th>20.0</th>\n",
              "      <td>63</td>\n",
              "    </tr>\n",
              "    <tr>\n",
              "      <th>21.0</th>\n",
              "      <td>61</td>\n",
              "    </tr>\n",
              "    <tr>\n",
              "      <th>22.0</th>\n",
              "      <td>60</td>\n",
              "    </tr>\n",
              "    <tr>\n",
              "      <th>28.0</th>\n",
              "      <td>58</td>\n",
              "    </tr>\n",
              "    <tr>\n",
              "      <th>14.0</th>\n",
              "      <td>57</td>\n",
              "    </tr>\n",
              "    <tr>\n",
              "      <th>31.0</th>\n",
              "      <td>57</td>\n",
              "    </tr>\n",
              "    <tr>\n",
              "      <th>41.0</th>\n",
              "      <td>56</td>\n",
              "    </tr>\n",
              "    <tr>\n",
              "      <th>43.0</th>\n",
              "      <td>56</td>\n",
              "    </tr>\n",
              "    <tr>\n",
              "      <th>39.0</th>\n",
              "      <td>55</td>\n",
              "    </tr>\n",
              "    <tr>\n",
              "      <th>23.0</th>\n",
              "      <td>53</td>\n",
              "    </tr>\n",
              "    <tr>\n",
              "      <th>44.0</th>\n",
              "      <td>51</td>\n",
              "    </tr>\n",
              "    <tr>\n",
              "      <th>45.0</th>\n",
              "      <td>51</td>\n",
              "    </tr>\n",
              "    <tr>\n",
              "      <th>42.0</th>\n",
              "      <td>51</td>\n",
              "    </tr>\n",
              "    <tr>\n",
              "      <th>40.0</th>\n",
              "      <td>43</td>\n",
              "    </tr>\n",
              "    <tr>\n",
              "      <th>46.0</th>\n",
              "      <td>41</td>\n",
              "    </tr>\n",
              "    <tr>\n",
              "      <th>11.0</th>\n",
              "      <td>41</td>\n",
              "    </tr>\n",
              "    <tr>\n",
              "      <th>12.0</th>\n",
              "      <td>41</td>\n",
              "    </tr>\n",
              "    <tr>\n",
              "      <th>13.0</th>\n",
              "      <td>41</td>\n",
              "    </tr>\n",
              "    <tr>\n",
              "      <th>5.0</th>\n",
              "      <td>39</td>\n",
              "    </tr>\n",
              "    <tr>\n",
              "      <th>48.0</th>\n",
              "      <td>34</td>\n",
              "    </tr>\n",
              "    <tr>\n",
              "      <th>10.0</th>\n",
              "      <td>30</td>\n",
              "    </tr>\n",
              "    <tr>\n",
              "      <th>4.0</th>\n",
              "      <td>28</td>\n",
              "    </tr>\n",
              "    <tr>\n",
              "      <th>9.0</th>\n",
              "      <td>27</td>\n",
              "    </tr>\n",
              "    <tr>\n",
              "      <th>6.0</th>\n",
              "      <td>25</td>\n",
              "    </tr>\n",
              "    <tr>\n",
              "      <th>8.0</th>\n",
              "      <td>25</td>\n",
              "    </tr>\n",
              "    <tr>\n",
              "      <th>47.0</th>\n",
              "      <td>22</td>\n",
              "    </tr>\n",
              "    <tr>\n",
              "      <th>49.0</th>\n",
              "      <td>21</td>\n",
              "    </tr>\n",
              "    <tr>\n",
              "      <th>7.0</th>\n",
              "      <td>20</td>\n",
              "    </tr>\n",
              "    <tr>\n",
              "      <th>50.0</th>\n",
              "      <td>16</td>\n",
              "    </tr>\n",
              "    <tr>\n",
              "      <th>3.0</th>\n",
              "      <td>12</td>\n",
              "    </tr>\n",
              "    <tr>\n",
              "      <th>51.0</th>\n",
              "      <td>11</td>\n",
              "    </tr>\n",
              "    <tr>\n",
              "      <th>2.0</th>\n",
              "      <td>6</td>\n",
              "    </tr>\n",
              "    <tr>\n",
              "      <th>1.0</th>\n",
              "      <td>2</td>\n",
              "    </tr>\n",
              "  </tbody>\n",
              "</table>\n",
              "</div><br><label><b>dtype:</b> int64</label>"
            ]
          },
          "metadata": {},
          "execution_count": 58
        }
      ]
    },
    {
      "cell_type": "code",
      "source": [
        "df.sort_values('housing_median_age')"
      ],
      "metadata": {
        "colab": {
          "base_uri": "https://localhost:8080/",
          "height": 423
        },
        "id": "bWKcFX0kmCzG",
        "outputId": "4e762e94-fbe9-42e0-9a60-46e783bb013b"
      },
      "execution_count": null,
      "outputs": [
        {
          "output_type": "execute_result",
          "data": {
            "text/plain": [
              "      longitude  latitude  housing_median_age  total_rooms  total_bedrooms  \\\n",
              "842     -117.95     35.08                 1.0         83.0            15.0   \n",
              "1115    -116.95     33.86                 1.0          6.0             2.0   \n",
              "2117    -117.51     34.16                 2.0        718.0            98.0   \n",
              "2429    -117.20     33.58                 2.0      30450.0          5033.0   \n",
              "495     -122.29     37.82                 2.0        158.0            43.0   \n",
              "...         ...       ...                 ...          ...             ...   \n",
              "717     -122.27     37.86                52.0       2307.0           583.0   \n",
              "708     -118.21     33.97                52.0       4220.0           908.0   \n",
              "1826    -122.04     37.00                52.0       3365.0           644.0   \n",
              "754     -121.49     38.56                52.0       1777.0           368.0   \n",
              "1499    -122.21     37.79                52.0        762.0           190.0   \n",
              "\n",
              "      population  households  median_income  median_house_value  \n",
              "842         32.0        15.0         4.8750            141700.0  \n",
              "1115         8.0         2.0         1.6250             55000.0  \n",
              "2117       119.0        50.0         4.1000            315000.0  \n",
              "2429      9419.0      3197.0         4.5936            174300.0  \n",
              "495         94.0        57.0         2.5625             60000.0  \n",
              "...          ...         ...            ...                 ...  \n",
              "717       1127.0       548.0         1.8447            198200.0  \n",
              "708       3731.0       892.0         3.1901            167600.0  \n",
              "1826       796.0       333.0         2.9712            116600.0  \n",
              "754        624.0       350.0         3.6729            137800.0  \n",
              "1499       600.0       195.0         3.0893            125000.0  \n",
              "\n",
              "[3000 rows x 9 columns]"
            ],
            "text/html": [
              "\n",
              "  <div id=\"df-73c7b420-c8e8-4083-af1a-3c8ece55503a\" class=\"colab-df-container\">\n",
              "    <div>\n",
              "<style scoped>\n",
              "    .dataframe tbody tr th:only-of-type {\n",
              "        vertical-align: middle;\n",
              "    }\n",
              "\n",
              "    .dataframe tbody tr th {\n",
              "        vertical-align: top;\n",
              "    }\n",
              "\n",
              "    .dataframe thead th {\n",
              "        text-align: right;\n",
              "    }\n",
              "</style>\n",
              "<table border=\"1\" class=\"dataframe\">\n",
              "  <thead>\n",
              "    <tr style=\"text-align: right;\">\n",
              "      <th></th>\n",
              "      <th>longitude</th>\n",
              "      <th>latitude</th>\n",
              "      <th>housing_median_age</th>\n",
              "      <th>total_rooms</th>\n",
              "      <th>total_bedrooms</th>\n",
              "      <th>population</th>\n",
              "      <th>households</th>\n",
              "      <th>median_income</th>\n",
              "      <th>median_house_value</th>\n",
              "    </tr>\n",
              "  </thead>\n",
              "  <tbody>\n",
              "    <tr>\n",
              "      <th>842</th>\n",
              "      <td>-117.95</td>\n",
              "      <td>35.08</td>\n",
              "      <td>1.0</td>\n",
              "      <td>83.0</td>\n",
              "      <td>15.0</td>\n",
              "      <td>32.0</td>\n",
              "      <td>15.0</td>\n",
              "      <td>4.8750</td>\n",
              "      <td>141700.0</td>\n",
              "    </tr>\n",
              "    <tr>\n",
              "      <th>1115</th>\n",
              "      <td>-116.95</td>\n",
              "      <td>33.86</td>\n",
              "      <td>1.0</td>\n",
              "      <td>6.0</td>\n",
              "      <td>2.0</td>\n",
              "      <td>8.0</td>\n",
              "      <td>2.0</td>\n",
              "      <td>1.6250</td>\n",
              "      <td>55000.0</td>\n",
              "    </tr>\n",
              "    <tr>\n",
              "      <th>2117</th>\n",
              "      <td>-117.51</td>\n",
              "      <td>34.16</td>\n",
              "      <td>2.0</td>\n",
              "      <td>718.0</td>\n",
              "      <td>98.0</td>\n",
              "      <td>119.0</td>\n",
              "      <td>50.0</td>\n",
              "      <td>4.1000</td>\n",
              "      <td>315000.0</td>\n",
              "    </tr>\n",
              "    <tr>\n",
              "      <th>2429</th>\n",
              "      <td>-117.20</td>\n",
              "      <td>33.58</td>\n",
              "      <td>2.0</td>\n",
              "      <td>30450.0</td>\n",
              "      <td>5033.0</td>\n",
              "      <td>9419.0</td>\n",
              "      <td>3197.0</td>\n",
              "      <td>4.5936</td>\n",
              "      <td>174300.0</td>\n",
              "    </tr>\n",
              "    <tr>\n",
              "      <th>495</th>\n",
              "      <td>-122.29</td>\n",
              "      <td>37.82</td>\n",
              "      <td>2.0</td>\n",
              "      <td>158.0</td>\n",
              "      <td>43.0</td>\n",
              "      <td>94.0</td>\n",
              "      <td>57.0</td>\n",
              "      <td>2.5625</td>\n",
              "      <td>60000.0</td>\n",
              "    </tr>\n",
              "    <tr>\n",
              "      <th>...</th>\n",
              "      <td>...</td>\n",
              "      <td>...</td>\n",
              "      <td>...</td>\n",
              "      <td>...</td>\n",
              "      <td>...</td>\n",
              "      <td>...</td>\n",
              "      <td>...</td>\n",
              "      <td>...</td>\n",
              "      <td>...</td>\n",
              "    </tr>\n",
              "    <tr>\n",
              "      <th>717</th>\n",
              "      <td>-122.27</td>\n",
              "      <td>37.86</td>\n",
              "      <td>52.0</td>\n",
              "      <td>2307.0</td>\n",
              "      <td>583.0</td>\n",
              "      <td>1127.0</td>\n",
              "      <td>548.0</td>\n",
              "      <td>1.8447</td>\n",
              "      <td>198200.0</td>\n",
              "    </tr>\n",
              "    <tr>\n",
              "      <th>708</th>\n",
              "      <td>-118.21</td>\n",
              "      <td>33.97</td>\n",
              "      <td>52.0</td>\n",
              "      <td>4220.0</td>\n",
              "      <td>908.0</td>\n",
              "      <td>3731.0</td>\n",
              "      <td>892.0</td>\n",
              "      <td>3.1901</td>\n",
              "      <td>167600.0</td>\n",
              "    </tr>\n",
              "    <tr>\n",
              "      <th>1826</th>\n",
              "      <td>-122.04</td>\n",
              "      <td>37.00</td>\n",
              "      <td>52.0</td>\n",
              "      <td>3365.0</td>\n",
              "      <td>644.0</td>\n",
              "      <td>796.0</td>\n",
              "      <td>333.0</td>\n",
              "      <td>2.9712</td>\n",
              "      <td>116600.0</td>\n",
              "    </tr>\n",
              "    <tr>\n",
              "      <th>754</th>\n",
              "      <td>-121.49</td>\n",
              "      <td>38.56</td>\n",
              "      <td>52.0</td>\n",
              "      <td>1777.0</td>\n",
              "      <td>368.0</td>\n",
              "      <td>624.0</td>\n",
              "      <td>350.0</td>\n",
              "      <td>3.6729</td>\n",
              "      <td>137800.0</td>\n",
              "    </tr>\n",
              "    <tr>\n",
              "      <th>1499</th>\n",
              "      <td>-122.21</td>\n",
              "      <td>37.79</td>\n",
              "      <td>52.0</td>\n",
              "      <td>762.0</td>\n",
              "      <td>190.0</td>\n",
              "      <td>600.0</td>\n",
              "      <td>195.0</td>\n",
              "      <td>3.0893</td>\n",
              "      <td>125000.0</td>\n",
              "    </tr>\n",
              "  </tbody>\n",
              "</table>\n",
              "<p>3000 rows × 9 columns</p>\n",
              "</div>\n",
              "    <div class=\"colab-df-buttons\">\n",
              "\n",
              "  <div class=\"colab-df-container\">\n",
              "    <button class=\"colab-df-convert\" onclick=\"convertToInteractive('df-73c7b420-c8e8-4083-af1a-3c8ece55503a')\"\n",
              "            title=\"Convert this dataframe to an interactive table.\"\n",
              "            style=\"display:none;\">\n",
              "\n",
              "  <svg xmlns=\"http://www.w3.org/2000/svg\" height=\"24px\" viewBox=\"0 -960 960 960\">\n",
              "    <path d=\"M120-120v-720h720v720H120Zm60-500h600v-160H180v160Zm220 220h160v-160H400v160Zm0 220h160v-160H400v160ZM180-400h160v-160H180v160Zm440 0h160v-160H620v160ZM180-180h160v-160H180v160Zm440 0h160v-160H620v160Z\"/>\n",
              "  </svg>\n",
              "    </button>\n",
              "\n",
              "  <style>\n",
              "    .colab-df-container {\n",
              "      display:flex;\n",
              "      gap: 12px;\n",
              "    }\n",
              "\n",
              "    .colab-df-convert {\n",
              "      background-color: #E8F0FE;\n",
              "      border: none;\n",
              "      border-radius: 50%;\n",
              "      cursor: pointer;\n",
              "      display: none;\n",
              "      fill: #1967D2;\n",
              "      height: 32px;\n",
              "      padding: 0 0 0 0;\n",
              "      width: 32px;\n",
              "    }\n",
              "\n",
              "    .colab-df-convert:hover {\n",
              "      background-color: #E2EBFA;\n",
              "      box-shadow: 0px 1px 2px rgba(60, 64, 67, 0.3), 0px 1px 3px 1px rgba(60, 64, 67, 0.15);\n",
              "      fill: #174EA6;\n",
              "    }\n",
              "\n",
              "    .colab-df-buttons div {\n",
              "      margin-bottom: 4px;\n",
              "    }\n",
              "\n",
              "    [theme=dark] .colab-df-convert {\n",
              "      background-color: #3B4455;\n",
              "      fill: #D2E3FC;\n",
              "    }\n",
              "\n",
              "    [theme=dark] .colab-df-convert:hover {\n",
              "      background-color: #434B5C;\n",
              "      box-shadow: 0px 1px 3px 1px rgba(0, 0, 0, 0.15);\n",
              "      filter: drop-shadow(0px 1px 2px rgba(0, 0, 0, 0.3));\n",
              "      fill: #FFFFFF;\n",
              "    }\n",
              "  </style>\n",
              "\n",
              "    <script>\n",
              "      const buttonEl =\n",
              "        document.querySelector('#df-73c7b420-c8e8-4083-af1a-3c8ece55503a button.colab-df-convert');\n",
              "      buttonEl.style.display =\n",
              "        google.colab.kernel.accessAllowed ? 'block' : 'none';\n",
              "\n",
              "      async function convertToInteractive(key) {\n",
              "        const element = document.querySelector('#df-73c7b420-c8e8-4083-af1a-3c8ece55503a');\n",
              "        const dataTable =\n",
              "          await google.colab.kernel.invokeFunction('convertToInteractive',\n",
              "                                                    [key], {});\n",
              "        if (!dataTable) return;\n",
              "\n",
              "        const docLinkHtml = 'Like what you see? Visit the ' +\n",
              "          '<a target=\"_blank\" href=https://colab.research.google.com/notebooks/data_table.ipynb>data table notebook</a>'\n",
              "          + ' to learn more about interactive tables.';\n",
              "        element.innerHTML = '';\n",
              "        dataTable['output_type'] = 'display_data';\n",
              "        await google.colab.output.renderOutput(dataTable, element);\n",
              "        const docLink = document.createElement('div');\n",
              "        docLink.innerHTML = docLinkHtml;\n",
              "        element.appendChild(docLink);\n",
              "      }\n",
              "    </script>\n",
              "  </div>\n",
              "\n",
              "\n",
              "<div id=\"df-5bd604ad-7db0-4e6c-8f43-22a1bd5ac102\">\n",
              "  <button class=\"colab-df-quickchart\" onclick=\"quickchart('df-5bd604ad-7db0-4e6c-8f43-22a1bd5ac102')\"\n",
              "            title=\"Suggest charts\"\n",
              "            style=\"display:none;\">\n",
              "\n",
              "<svg xmlns=\"http://www.w3.org/2000/svg\" height=\"24px\"viewBox=\"0 0 24 24\"\n",
              "     width=\"24px\">\n",
              "    <g>\n",
              "        <path d=\"M19 3H5c-1.1 0-2 .9-2 2v14c0 1.1.9 2 2 2h14c1.1 0 2-.9 2-2V5c0-1.1-.9-2-2-2zM9 17H7v-7h2v7zm4 0h-2V7h2v10zm4 0h-2v-4h2v4z\"/>\n",
              "    </g>\n",
              "</svg>\n",
              "  </button>\n",
              "\n",
              "<style>\n",
              "  .colab-df-quickchart {\n",
              "      --bg-color: #E8F0FE;\n",
              "      --fill-color: #1967D2;\n",
              "      --hover-bg-color: #E2EBFA;\n",
              "      --hover-fill-color: #174EA6;\n",
              "      --disabled-fill-color: #AAA;\n",
              "      --disabled-bg-color: #DDD;\n",
              "  }\n",
              "\n",
              "  [theme=dark] .colab-df-quickchart {\n",
              "      --bg-color: #3B4455;\n",
              "      --fill-color: #D2E3FC;\n",
              "      --hover-bg-color: #434B5C;\n",
              "      --hover-fill-color: #FFFFFF;\n",
              "      --disabled-bg-color: #3B4455;\n",
              "      --disabled-fill-color: #666;\n",
              "  }\n",
              "\n",
              "  .colab-df-quickchart {\n",
              "    background-color: var(--bg-color);\n",
              "    border: none;\n",
              "    border-radius: 50%;\n",
              "    cursor: pointer;\n",
              "    display: none;\n",
              "    fill: var(--fill-color);\n",
              "    height: 32px;\n",
              "    padding: 0;\n",
              "    width: 32px;\n",
              "  }\n",
              "\n",
              "  .colab-df-quickchart:hover {\n",
              "    background-color: var(--hover-bg-color);\n",
              "    box-shadow: 0 1px 2px rgba(60, 64, 67, 0.3), 0 1px 3px 1px rgba(60, 64, 67, 0.15);\n",
              "    fill: var(--button-hover-fill-color);\n",
              "  }\n",
              "\n",
              "  .colab-df-quickchart-complete:disabled,\n",
              "  .colab-df-quickchart-complete:disabled:hover {\n",
              "    background-color: var(--disabled-bg-color);\n",
              "    fill: var(--disabled-fill-color);\n",
              "    box-shadow: none;\n",
              "  }\n",
              "\n",
              "  .colab-df-spinner {\n",
              "    border: 2px solid var(--fill-color);\n",
              "    border-color: transparent;\n",
              "    border-bottom-color: var(--fill-color);\n",
              "    animation:\n",
              "      spin 1s steps(1) infinite;\n",
              "  }\n",
              "\n",
              "  @keyframes spin {\n",
              "    0% {\n",
              "      border-color: transparent;\n",
              "      border-bottom-color: var(--fill-color);\n",
              "      border-left-color: var(--fill-color);\n",
              "    }\n",
              "    20% {\n",
              "      border-color: transparent;\n",
              "      border-left-color: var(--fill-color);\n",
              "      border-top-color: var(--fill-color);\n",
              "    }\n",
              "    30% {\n",
              "      border-color: transparent;\n",
              "      border-left-color: var(--fill-color);\n",
              "      border-top-color: var(--fill-color);\n",
              "      border-right-color: var(--fill-color);\n",
              "    }\n",
              "    40% {\n",
              "      border-color: transparent;\n",
              "      border-right-color: var(--fill-color);\n",
              "      border-top-color: var(--fill-color);\n",
              "    }\n",
              "    60% {\n",
              "      border-color: transparent;\n",
              "      border-right-color: var(--fill-color);\n",
              "    }\n",
              "    80% {\n",
              "      border-color: transparent;\n",
              "      border-right-color: var(--fill-color);\n",
              "      border-bottom-color: var(--fill-color);\n",
              "    }\n",
              "    90% {\n",
              "      border-color: transparent;\n",
              "      border-bottom-color: var(--fill-color);\n",
              "    }\n",
              "  }\n",
              "</style>\n",
              "\n",
              "  <script>\n",
              "    async function quickchart(key) {\n",
              "      const quickchartButtonEl =\n",
              "        document.querySelector('#' + key + ' button');\n",
              "      quickchartButtonEl.disabled = true;  // To prevent multiple clicks.\n",
              "      quickchartButtonEl.classList.add('colab-df-spinner');\n",
              "      try {\n",
              "        const charts = await google.colab.kernel.invokeFunction(\n",
              "            'suggestCharts', [key], {});\n",
              "      } catch (error) {\n",
              "        console.error('Error during call to suggestCharts:', error);\n",
              "      }\n",
              "      quickchartButtonEl.classList.remove('colab-df-spinner');\n",
              "      quickchartButtonEl.classList.add('colab-df-quickchart-complete');\n",
              "    }\n",
              "    (() => {\n",
              "      let quickchartButtonEl =\n",
              "        document.querySelector('#df-5bd604ad-7db0-4e6c-8f43-22a1bd5ac102 button');\n",
              "      quickchartButtonEl.style.display =\n",
              "        google.colab.kernel.accessAllowed ? 'block' : 'none';\n",
              "    })();\n",
              "  </script>\n",
              "</div>\n",
              "\n",
              "    </div>\n",
              "  </div>\n"
            ],
            "application/vnd.google.colaboratory.intrinsic+json": {
              "type": "dataframe",
              "summary": "{\n  \"name\": \"df\",\n  \"rows\": 3000,\n  \"fields\": [\n    {\n      \"column\": \"longitude\",\n      \"properties\": {\n        \"dtype\": \"number\",\n        \"std\": 1.9949362939550173,\n        \"min\": -124.18,\n        \"max\": -114.49,\n        \"num_unique_values\": 607,\n        \"samples\": [\n          -119.61,\n          -116.84,\n          -120.64\n        ],\n        \"semantic_type\": \"\",\n        \"description\": \"\"\n      }\n    },\n    {\n      \"column\": \"latitude\",\n      \"properties\": {\n        \"dtype\": \"number\",\n        \"std\": 2.1296695233438343,\n        \"min\": 32.56,\n        \"max\": 41.92,\n        \"num_unique_values\": 587,\n        \"samples\": [\n          39.34,\n          37.54,\n          34.37\n        ],\n        \"semantic_type\": \"\",\n        \"description\": \"\"\n      }\n    },\n    {\n      \"column\": \"housing_median_age\",\n      \"properties\": {\n        \"dtype\": \"number\",\n        \"std\": 12.555395554955785,\n        \"min\": 1.0,\n        \"max\": 52.0,\n        \"num_unique_values\": 52,\n        \"samples\": [\n          20.0,\n          42.0,\n          48.0\n        ],\n        \"semantic_type\": \"\",\n        \"description\": \"\"\n      }\n    },\n    {\n      \"column\": \"total_rooms\",\n      \"properties\": {\n        \"dtype\": \"number\",\n        \"std\": 2155.593331625583,\n        \"min\": 6.0,\n        \"max\": 30450.0,\n        \"num_unique_values\": 2215,\n        \"samples\": [\n          1351.0,\n          2547.0,\n          1269.0\n        ],\n        \"semantic_type\": \"\",\n        \"description\": \"\"\n      }\n    },\n    {\n      \"column\": \"total_bedrooms\",\n      \"properties\": {\n        \"dtype\": \"number\",\n        \"std\": 415.65436813632317,\n        \"min\": 2.0,\n        \"max\": 5419.0,\n        \"num_unique_values\": 1055,\n        \"samples\": [\n          381.0,\n          1482.0,\n          169.0\n        ],\n        \"semantic_type\": \"\",\n        \"description\": \"\"\n      }\n    },\n    {\n      \"column\": \"population\",\n      \"properties\": {\n        \"dtype\": \"number\",\n        \"std\": 1030.543012412241,\n        \"min\": 5.0,\n        \"max\": 11935.0,\n        \"num_unique_values\": 1802,\n        \"samples\": [\n          751.0,\n          301.0,\n          1157.0\n        ],\n        \"semantic_type\": \"\",\n        \"description\": \"\"\n      }\n    },\n    {\n      \"column\": \"households\",\n      \"properties\": {\n        \"dtype\": \"number\",\n        \"std\": 365.42270980552564,\n        \"min\": 2.0,\n        \"max\": 4930.0,\n        \"num_unique_values\": 1026,\n        \"samples\": [\n          355.0,\n          722.0,\n          599.0\n        ],\n        \"semantic_type\": \"\",\n        \"description\": \"\"\n      }\n    },\n    {\n      \"column\": \"median_income\",\n      \"properties\": {\n        \"dtype\": \"number\",\n        \"std\": 1.8545117296914815,\n        \"min\": 0.4999,\n        \"max\": 15.0001,\n        \"num_unique_values\": 2578,\n        \"samples\": [\n          1.5029,\n          2.3583,\n          3.1462\n        ],\n        \"semantic_type\": \"\",\n        \"description\": \"\"\n      }\n    },\n    {\n      \"column\": \"median_house_value\",\n      \"properties\": {\n        \"dtype\": \"number\",\n        \"std\": 113119.68746964452,\n        \"min\": 22500.0,\n        \"max\": 500001.0,\n        \"num_unique_values\": 1784,\n        \"samples\": [\n          310600.0,\n          166700.0,\n          59100.0\n        ],\n        \"semantic_type\": \"\",\n        \"description\": \"\"\n      }\n    }\n  ]\n}"
            }
          },
          "metadata": {},
          "execution_count": 61
        }
      ]
    }
  ]
}